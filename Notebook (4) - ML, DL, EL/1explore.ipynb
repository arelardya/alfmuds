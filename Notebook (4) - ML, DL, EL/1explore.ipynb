{
 "cells": [
  {
   "cell_type": "code",
   "execution_count": 1,
   "metadata": {},
   "outputs": [
    {
     "name": "stdout",
     "output_type": "stream",
     "text": [
      "Index(['sample_id', 'variety', 'region', 'quality_score', 'quality_category',\n",
      "       'ripeness_index', 'ripeness_category', 'sugar_content_brix',\n",
      "       'firmness_kgf', 'length_cm', 'weight_g', 'harvest_date',\n",
      "       'tree_age_years', 'altitude_m', 'rainfall_mm', 'soil_nitrogen_ppm'],\n",
      "      dtype='object')\n"
     ]
    }
   ],
   "source": [
    "import pandas as pd\n",
    "\n",
    "df = pd.read_csv(\"banana.csv\")\n",
    "df2 = pd.read_csv(\"banana.csv\")\n",
    "\n",
    "df.head()\n",
    "print(df.columns)"
   ]
  },
  {
   "cell_type": "code",
   "execution_count": 2,
   "metadata": {},
   "outputs": [
    {
     "data": {
      "text/plain": [
       "sample_id             0\n",
       "variety               0\n",
       "region                0\n",
       "quality_score         0\n",
       "quality_category      0\n",
       "ripeness_index        0\n",
       "ripeness_category     0\n",
       "sugar_content_brix    0\n",
       "firmness_kgf          0\n",
       "length_cm             0\n",
       "weight_g              0\n",
       "harvest_date          0\n",
       "tree_age_years        0\n",
       "altitude_m            0\n",
       "rainfall_mm           0\n",
       "soil_nitrogen_ppm     0\n",
       "dtype: int64"
      ]
     },
     "execution_count": 2,
     "metadata": {},
     "output_type": "execute_result"
    }
   ],
   "source": [
    "##Cleaning Data\n",
    "df = df.dropna()\n",
    "df = df.drop_duplicates()\n",
    "\n",
    "df.isnull().sum()"
   ]
  },
  {
   "cell_type": "code",
   "execution_count": 3,
   "metadata": {},
   "outputs": [
    {
     "data": {
      "text/html": [
       "<div>\n",
       "<style scoped>\n",
       "    .dataframe tbody tr th:only-of-type {\n",
       "        vertical-align: middle;\n",
       "    }\n",
       "\n",
       "    .dataframe tbody tr th {\n",
       "        vertical-align: top;\n",
       "    }\n",
       "\n",
       "    .dataframe thead th {\n",
       "        text-align: right;\n",
       "    }\n",
       "</style>\n",
       "<table border=\"1\" class=\"dataframe\">\n",
       "  <thead>\n",
       "    <tr style=\"text-align: right;\">\n",
       "      <th></th>\n",
       "      <th>sample_id</th>\n",
       "      <th>variety</th>\n",
       "      <th>region</th>\n",
       "      <th>quality_score</th>\n",
       "      <th>quality_category</th>\n",
       "      <th>ripeness_index</th>\n",
       "      <th>ripeness_category</th>\n",
       "      <th>sugar_content_brix</th>\n",
       "      <th>firmness_kgf</th>\n",
       "      <th>length_cm</th>\n",
       "      <th>weight_g</th>\n",
       "      <th>harvest_date</th>\n",
       "      <th>tree_age_years</th>\n",
       "      <th>altitude_m</th>\n",
       "      <th>rainfall_mm</th>\n",
       "      <th>soil_nitrogen_ppm</th>\n",
       "    </tr>\n",
       "  </thead>\n",
       "  <tbody>\n",
       "    <tr>\n",
       "      <th>0</th>\n",
       "      <td>1</td>\n",
       "      <td>Manzano</td>\n",
       "      <td>Colombia</td>\n",
       "      <td>1.88</td>\n",
       "      <td>Processing</td>\n",
       "      <td>2.11</td>\n",
       "      <td>Turning</td>\n",
       "      <td>16.83</td>\n",
       "      <td>3.53</td>\n",
       "      <td>21.44</td>\n",
       "      <td>146.92</td>\n",
       "      <td>2023-10-16</td>\n",
       "      <td>13.7</td>\n",
       "      <td>58.2</td>\n",
       "      <td>2440.5</td>\n",
       "      <td>183.6</td>\n",
       "    </tr>\n",
       "    <tr>\n",
       "      <th>1</th>\n",
       "      <td>2</td>\n",
       "      <td>Plantain</td>\n",
       "      <td>Guatemala</td>\n",
       "      <td>2.42</td>\n",
       "      <td>Processing</td>\n",
       "      <td>4.25</td>\n",
       "      <td>Ripe</td>\n",
       "      <td>16.73</td>\n",
       "      <td>4.09</td>\n",
       "      <td>26.11</td>\n",
       "      <td>160.48</td>\n",
       "      <td>2023-10-14</td>\n",
       "      <td>5.1</td>\n",
       "      <td>280.2</td>\n",
       "      <td>2374.6</td>\n",
       "      <td>109.8</td>\n",
       "    </tr>\n",
       "    <tr>\n",
       "      <th>2</th>\n",
       "      <td>3</td>\n",
       "      <td>Burro</td>\n",
       "      <td>Ecuador</td>\n",
       "      <td>3.57</td>\n",
       "      <td>Premium</td>\n",
       "      <td>6.24</td>\n",
       "      <td>Overripe</td>\n",
       "      <td>21.34</td>\n",
       "      <td>1.63</td>\n",
       "      <td>25.20</td>\n",
       "      <td>225.27</td>\n",
       "      <td>2023-09-08</td>\n",
       "      <td>17.7</td>\n",
       "      <td>1246.9</td>\n",
       "      <td>1191.5</td>\n",
       "      <td>147.7</td>\n",
       "    </tr>\n",
       "    <tr>\n",
       "      <th>3</th>\n",
       "      <td>4</td>\n",
       "      <td>Manzano</td>\n",
       "      <td>Ecuador</td>\n",
       "      <td>2.21</td>\n",
       "      <td>Processing</td>\n",
       "      <td>5.39</td>\n",
       "      <td>Ripe</td>\n",
       "      <td>16.75</td>\n",
       "      <td>3.31</td>\n",
       "      <td>13.08</td>\n",
       "      <td>137.80</td>\n",
       "      <td>2023-10-07</td>\n",
       "      <td>13.0</td>\n",
       "      <td>1150.2</td>\n",
       "      <td>2845.1</td>\n",
       "      <td>92.8</td>\n",
       "    </tr>\n",
       "    <tr>\n",
       "      <th>4</th>\n",
       "      <td>5</td>\n",
       "      <td>Red Dacca</td>\n",
       "      <td>Ecuador</td>\n",
       "      <td>2.35</td>\n",
       "      <td>Processing</td>\n",
       "      <td>5.84</td>\n",
       "      <td>Ripe</td>\n",
       "      <td>16.90</td>\n",
       "      <td>3.07</td>\n",
       "      <td>12.98</td>\n",
       "      <td>227.84</td>\n",
       "      <td>2023-10-02</td>\n",
       "      <td>4.8</td>\n",
       "      <td>526.0</td>\n",
       "      <td>2136.9</td>\n",
       "      <td>129.7</td>\n",
       "    </tr>\n",
       "  </tbody>\n",
       "</table>\n",
       "</div>"
      ],
      "text/plain": [
       "   sample_id    variety     region  quality_score quality_category  \\\n",
       "0          1    Manzano   Colombia           1.88       Processing   \n",
       "1          2   Plantain  Guatemala           2.42       Processing   \n",
       "2          3      Burro    Ecuador           3.57          Premium   \n",
       "3          4    Manzano    Ecuador           2.21       Processing   \n",
       "4          5  Red Dacca    Ecuador           2.35       Processing   \n",
       "\n",
       "   ripeness_index ripeness_category  sugar_content_brix  firmness_kgf  \\\n",
       "0            2.11           Turning               16.83          3.53   \n",
       "1            4.25              Ripe               16.73          4.09   \n",
       "2            6.24          Overripe               21.34          1.63   \n",
       "3            5.39              Ripe               16.75          3.31   \n",
       "4            5.84              Ripe               16.90          3.07   \n",
       "\n",
       "   length_cm  weight_g harvest_date  tree_age_years  altitude_m  rainfall_mm  \\\n",
       "0      21.44    146.92   2023-10-16            13.7        58.2       2440.5   \n",
       "1      26.11    160.48   2023-10-14             5.1       280.2       2374.6   \n",
       "2      25.20    225.27   2023-09-08            17.7      1246.9       1191.5   \n",
       "3      13.08    137.80   2023-10-07            13.0      1150.2       2845.1   \n",
       "4      12.98    227.84   2023-10-02             4.8       526.0       2136.9   \n",
       "\n",
       "   soil_nitrogen_ppm  \n",
       "0              183.6  \n",
       "1              109.8  \n",
       "2              147.7  \n",
       "3               92.8  \n",
       "4              129.7  "
      ]
     },
     "execution_count": 3,
     "metadata": {},
     "output_type": "execute_result"
    }
   ],
   "source": [
    "df.head()"
   ]
  },
  {
   "cell_type": "code",
   "execution_count": 7,
   "metadata": {},
   "outputs": [
    {
     "ename": "ModuleNotFoundError",
     "evalue": "No module named 'sklearn'",
     "output_type": "error",
     "traceback": [
      "\u001b[1;31m---------------------------------------------------------------------------\u001b[0m",
      "\u001b[1;31mModuleNotFoundError\u001b[0m                       Traceback (most recent call last)",
      "Cell \u001b[1;32mIn[7], line 1\u001b[0m\n\u001b[1;32m----> 1\u001b[0m \u001b[38;5;28;01mfrom\u001b[39;00m \u001b[38;5;21;01msklearn\u001b[39;00m\u001b[38;5;21;01m.\u001b[39;00m\u001b[38;5;21;01mpreprocessing\u001b[39;00m \u001b[38;5;28;01mimport\u001b[39;00m LabelEncoder\n\u001b[0;32m      3\u001b[0m \u001b[38;5;66;03m# 1. Encode the 'variety' and 'ripeness_category' columns using Label Encoding\u001b[39;00m\n\u001b[0;32m      4\u001b[0m label_encoder \u001b[38;5;241m=\u001b[39m LabelEncoder()\n",
      "\u001b[1;31mModuleNotFoundError\u001b[0m: No module named 'sklearn'"
     ]
    }
   ],
   "source": [
    "from sklearn.preprocessing import LabelEncoder\n",
    "\n",
    "# 1. Encode the 'variety' and 'ripeness_category' columns using Label Encoding\n",
    "label_encoder = LabelEncoder()\n",
    "\n",
    "# Encode 'variety' and 'ripeness_category'\n",
    "df['variety_encoded'] = label_encoder.fit_transform(df['variety'])\n",
    "df['ripeness_category_encoded'] = label_encoder.fit_transform(df['ripeness_category'])\n",
    "\n",
    "# 2. Drop the 'region' and 'quality_category' columns\n",
    "df_cleaned = df.drop(columns=['region', 'quality_category','variety','ripeness_category','harvest_date'])\n",
    "\n",
    "# Display the cleaned DataFrame\n",
    "print(df_cleaned)"
   ]
  },
  {
   "cell_type": "code",
   "execution_count": null,
   "metadata": {},
   "outputs": [
    {
     "ename": "NameError",
     "evalue": "name 'df_cleaned' is not defined",
     "output_type": "error",
     "traceback": [
      "\u001b[1;31m---------------------------------------------------------------------------\u001b[0m",
      "\u001b[1;31mNameError\u001b[0m                                 Traceback (most recent call last)",
      "Cell \u001b[1;32mIn[6], line 5\u001b[0m\n\u001b[0;32m      2\u001b[0m \u001b[38;5;28;01mimport\u001b[39;00m \u001b[38;5;21;01mmatplotlib\u001b[39;00m\u001b[38;5;21;01m.\u001b[39;00m\u001b[38;5;21;01mpyplot\u001b[39;00m \u001b[38;5;28;01mas\u001b[39;00m \u001b[38;5;21;01mplt\u001b[39;00m\n\u001b[0;32m      4\u001b[0m \u001b[38;5;66;03m# 1. Correlation Analysis\u001b[39;00m\n\u001b[1;32m----> 5\u001b[0m correlation_matrix \u001b[38;5;241m=\u001b[39m \u001b[43mdf_cleaned\u001b[49m\u001b[38;5;241m.\u001b[39mcorr()  \u001b[38;5;66;03m# Calculate correlation matrix for numerical features\u001b[39;00m\n\u001b[0;32m      7\u001b[0m \u001b[38;5;66;03m# Plotting the correlation matrix using a heatmap\u001b[39;00m\n\u001b[0;32m      8\u001b[0m plt\u001b[38;5;241m.\u001b[39mfigure(figsize\u001b[38;5;241m=\u001b[39m(\u001b[38;5;241m10\u001b[39m, \u001b[38;5;241m6\u001b[39m))\n",
      "\u001b[1;31mNameError\u001b[0m: name 'df_cleaned' is not defined"
     ]
    }
   ],
   "source": [
    "import seaborn as sns\n",
    "import matplotlib.pyplot as plt\n",
    "\n",
    "# 1. Correlation Analysis\n",
    "correlation_matrix = df_cleaned.corr()  # Calculate correlation matrix for numerical features\n",
    "\n",
    "# Plotting the correlation matrix using a heatmap\n",
    "plt.figure(figsize=(10, 6))\n",
    "sns.heatmap(correlation_matrix, annot=True, cmap='coolwarm', fmt=\".2f\", linewidths=0.5)\n",
    "plt.title(\"Correlation Matrix\")\n",
    "plt.show()"
   ]
  },
  {
   "cell_type": "markdown",
   "metadata": {},
   "source": [
    "Kita predict quality score dengan ripeness, sugar content"
   ]
  },
  {
   "cell_type": "code",
   "execution_count": 20,
   "metadata": {},
   "outputs": [
    {
     "ename": "NameError",
     "evalue": "name 'df_cleaned' is not defined",
     "output_type": "error",
     "traceback": [
      "\u001b[1;31m---------------------------------------------------------------------------\u001b[0m",
      "\u001b[1;31mNameError\u001b[0m                                 Traceback (most recent call last)",
      "Cell \u001b[1;32mIn[20], line 1\u001b[0m\n\u001b[1;32m----> 1\u001b[0m \u001b[38;5;28mprint\u001b[39m(\u001b[43mdf_cleaned\u001b[49m\u001b[38;5;241m.\u001b[39mcolumns)\n",
      "\u001b[1;31mNameError\u001b[0m: name 'df_cleaned' is not defined"
     ]
    }
   ],
   "source": [
    "print(df_cleaned.columns)"
   ]
  },
  {
   "cell_type": "code",
   "execution_count": 17,
   "metadata": {},
   "outputs": [
    {
     "name": "stdout",
     "output_type": "stream",
     "text": [
      "     ripeness_index  sugar_content_brix  quality_score\n",
      "0              2.11               16.83           1.88\n",
      "1              4.25               16.73           2.42\n",
      "2              6.24               21.34           3.57\n",
      "3              5.39               16.75           2.21\n",
      "4              5.84               16.90           2.35\n",
      "..              ...                 ...            ...\n",
      "995            4.94               21.06           3.50\n",
      "996            6.74               16.10           2.38\n",
      "997            1.41               17.17           1.68\n",
      "998            1.34               17.03           2.02\n",
      "999            2.69               21.10           2.69\n",
      "\n",
      "[1000 rows x 3 columns]\n"
     ]
    }
   ],
   "source": [
    "df_filtered = df[['ripeness_index', 'sugar_content_brix', 'quality_score']]\n",
    "\n",
    "print(df_filtered)"
   ]
  }
 ],
 "metadata": {
  "kernelspec": {
   "display_name": "Python 3",
   "language": "python",
   "name": "python3"
  },
  "language_info": {
   "codemirror_mode": {
    "name": "ipython",
    "version": 3
   },
   "file_extension": ".py",
   "mimetype": "text/x-python",
   "name": "python",
   "nbconvert_exporter": "python",
   "pygments_lexer": "ipython3",
   "version": "3.12.6"
  }
 },
 "nbformat": 4,
 "nbformat_minor": 2
}
